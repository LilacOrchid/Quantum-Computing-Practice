{
 "cells": [
  {
   "cell_type": "markdown",
   "id": "35cef6c6",
   "metadata": {},
   "source": [
    "# Looking at the Fundementals of Quantum Error Correction - Correcting a Bit Flip Error"
   ]
  },
  {
   "cell_type": "markdown",
   "id": "fc9dfea1",
   "metadata": {},
   "source": [
    "In this notebook I will be reviewing the basics of quantum computing then trying to run a basic Bit-Flip error corrector and trying to explain along for my own understanding to get a grasp on the fundamentals of Qiskit and basic quantum computing"
   ]
  },
  {
   "cell_type": "markdown",
   "id": "547c8d7e",
   "metadata": {},
   "source": [
    "## Reviewing the Basics"
   ]
  },
  {
   "cell_type": "markdown",
   "id": "3f3d7de1",
   "metadata": {},
   "source": [
    "### Qubits\n",
    "- A qubit is the fundamental unit of quantum information.\n",
    "- A classical bit can be in two states, either 1 or 0; qubits can be in a superposition of both states simultaneously.y \n",
    "-  qubit state can be written as $ \\lvert \\psi \\rangle = \\alpha \\lvert 0 \\rangle + \\beta \\lvert 1 \\rangle $.\n",
    "- Naturally, when you take the modulus squared, it represents the probability of measuring the qubit in state $ \\lvert 0 \\rangle$ or $ \\lvert 1 \\rangle $."
   ]
  },
  {
   "cell_type": "markdown",
   "id": "218af714",
   "metadata": {},
   "source": [
    "### Entanglement:\n",
    "- Quantum entanglement is when qubits become interconnected such that the state of one qubit directly affects the state of another, no matter how far apart they are (think Bell's inequality from the Quantum module).\n",
    "- For example, an entangled pair might exist in the state $ \\lvert \\psi \\rangle = \\frac{1}{\\sqrt{2}} \\left( \\lvert 00 \\rangle + \\lvert 11 \\rangle \\right) $.\n",
    "- If the first qubit is measured and found to be in the $ \\lvert 0 \\rangle$ state, the second will also be in the $ \\lvert 0 \\rangle$ state, and vice-versa for the $ \\lvert 1 \\rangle $ state.\n"
   ]
  },
  {
   "cell_type": "markdown",
   "id": "dfdc8252",
   "metadata": {},
   "source": [
    "### Quantum Gates\n",
    "- Quantum gates are the basic operations that change the state of qubits; they are like the quantum versions of classical logic gates\n",
    "#### some examples:\n",
    "- Pauli-X gate: Like a NOT Gate flips $ \\lvert 0 \\rangle$ to $ \\lvert 1 \\rangle $ and vice-vera\n",
    "$$\n",
    "X \\lvert 0 \\rangle = \\lvert 1 \\rangle, \\quad X \\lvert 1 \\rangle = \\lvert 0 \\rangle\n",
    "$$\n",
    "- Hadamard gate (H-gate): This creates a superposition. For example applying $H\\lvert 0 \\rangle$ gives state $$\n",
    "\\lvert \\psi \\rangle = \\frac{1}{\\sqrt{2}} \\left( \\lvert 0 \\rangle + \\lvert 1 \\rangle \\right)\n",
    "$$\n",
    "- CNOT (Controlled NOT gate): A two-qubit gate where the second qubit is flipped if the first qubit is in the $ \\lvert 1 \\rangle$ state. This is used to create entanglement. If we use the superposition state from applying the Hadamard gate, we can then apply it to the whole system of 2 qubits using the tensor product:\n",
    "$$\n",
    "|\\psi\\rangle = H|0\\rangle \\otimes |0\\rangle = \\frac{1}{\\sqrt{2}}(|0\\rangle + |1\\rangle) \\otimes |0\\rangle = \\frac{1}{\\sqrt{2}}(|00\\rangle + |10\\rangle)\n",
    "$$\n",
    "This is the superposition of the 2-qubit states. Now, if we apply the CNOT gate, we can clearly see that it flips the second qubit into a 1, giving the entangled state:\n",
    "$\n",
    "\\lvert \\psi \\rangle = \\frac{1}{\\sqrt{2}} \\left( \\lvert 00 \\rangle + \\lvert 11 \\rangle \\right)\n",
    "$"
   ]
  },
  {
   "cell_type": "markdown",
   "id": "319d69c8",
   "metadata": {},
   "source": [
    "### Noise and Errror in Quantum Computing\n",
    "Quantum computers are highly sensitive to noise, which can easily disrupt the delicate states of qubits. In a real-world quantum system, qubits are prone to various kinds of errors:\n",
    "- Bit-flip errors, this is when the qubit state $ \\lvert 0 \\rangle$ changes to a $ \\lvert 1 \\rangle $ or $ \\lvert 1 \\rangle $ changes to a $ \\lvert 0 \\rangle$\n",
    "- Phase-flip errors, This changes the relative phase of the qubit state, for example the phase-flip turns a $\n",
    "\\alpha \\lvert 0 \\rangle + \\beta \\lvert 1 \\rangle$ to a $\\alpha \\lvert 0 \\rangle - \\beta \\lvert 1 \\rangle$, notice how the probability amplitude has not changed\n",
    "- combined error- This is when both bit-flip and phase-flip errrors can happen simultaneously \n",
    "We can solve these errors using Quantum Error Correction Techniques"
   ]
  },
  {
   "cell_type": "markdown",
   "id": "30f3a4db",
   "metadata": {},
   "source": [
    "### Quantum Errror Corrrection (QEC)\n",
    "- In a classical computer, error correction is straightforward, but quantum error correction is more difficult due to the 'no cloning theorem.' This theorem states that if you have an unknown state, it is not possible to make an identical copy i.e quantum information cannot be copied exactly. This is further complicated by the superposition principle\n",
    "- Quantum error correction codes are designed to protect quantum information from errors caused by decoherence and other quantum noise.ntum information is protected frrom errors bnecause of decohereance and other quantum noise\n",
    "\n",
    "#### Basic Idea\n",
    "A single logical qubit is encoded into multiple physical qubits in such a way that errors can be detected and corrected without destroying the quantum information. These steps are usually taken:\n",
    "- Encoding: Spread the quantum information across multiple qubits.\n",
    "- Syndrome measurement: Detect errors without directly measuring the quantum state, as the superposition would collapse. Syndrome measurement works using auxiliary qubits that are entangled with the encoded qubits and help extract information without collapsing the quantum state. The actual syndrome measurement is done on the auxiliary qubits. Quantum gates are applied between the data qubits and the auxiliary qubits in such a way that the errors affecting the logical qubits are transferred to the auxiliary qubits.\n",
    "- Recovery: Apply corrections to restore the quantum state using quantum logic gates.\n",
    "\n",
    "### Bit-Flip Error Correction Example\n",
    "#### Encoding\n",
    "To protect a single qubit, we can encode it into 3 qubits. So instead of having $ \\lvert \\psi \\rangle = \\alpha \\lvert 0 \\rangle + \\beta \\lvert 1 \\rangle $, we use 3 qubits: $\n",
    "\\lvert \\psi \\rangle = \\alpha \\lvert 000 \\rangle + \\beta \\lvert 111 \\rangle\n",
    "$\n",
    "This is called the 3-qubit bit-flip code.\n",
    "\n",
    "#### Syndrome Measruement\n",
    "- If a bit-flip error happens on one of the qubits, we need to figure out which one has flipped. We measure the qubits in such a way that we don't disturb the quantum state but still gain enough information to detect which qubit has been affected.\n",
    "- Essentially, since there are 3 qubits, if 1 is different from the other 2, a bit-flip error has occurred.\n",
    "\n",
    "#### Correction \n",
    "- Once we detect the error, we can correct it by flipping the affected qubit back to its original state. This method works for a single bit-flip error.\n",
    "\n",
    "\n",
    "### Phase-Flip Error Correction\n",
    "- We can construct codes to correct phase-flip errors using something called the Shor Code.\n",
    "- The Shor Code combines bit-flip and phase-flip error correction and uses 9 qubits to encode a single logical qubit, protecting against both types of errors."
   ]
  },
  {
   "cell_type": "markdown",
   "id": "51839c6a",
   "metadata": {},
   "source": [
    "## Simulating the Bit-Flip error correction"
   ]
  },
  {
   "cell_type": "code",
   "execution_count": 1,
   "id": "b8e53d0f",
   "metadata": {},
   "outputs": [],
   "source": [
    "from qiskit import QuantumCircuit"
   ]
  },
  {
   "cell_type": "code",
   "execution_count": 2,
   "id": "2e3fe74e",
   "metadata": {},
   "outputs": [],
   "source": [
    "# here we arre crrreating a qquantum circuit with 5 qubits and 2 classical bits and 3 data bits \n",
    "qc = QuantumCircuit(5,5)"
   ]
  },
  {
   "cell_type": "code",
   "execution_count": 3,
   "id": "805e7d22",
   "metadata": {},
   "outputs": [
    {
     "data": {
      "text/plain": [
       "<qiskit.circuit.instructionset.InstructionSet at 0x278481412e0>"
      ]
     },
     "execution_count": 3,
     "metadata": {},
     "output_type": "execute_result"
    }
   ],
   "source": [
    "qc.h(0) # apply H gate"
   ]
  },
  {
   "cell_type": "markdown",
   "id": "7b8beec7",
   "metadata": {},
   "source": [
    "This is the H-gate being applied to the first qubit of 0 then it is being put in the superposition state ie |+> so only the first qubit is in superposition now\n",
    "$H\\lvert 0 \\rangle =  \\frac{1}{\\sqrt{2}} \\left( \\lvert 0 \\rangle + \\lvert 1 \\rangle \\right)\n",
    "$"
   ]
  },
  {
   "cell_type": "code",
   "execution_count": 4,
   "id": "c9ff0003",
   "metadata": {},
   "outputs": [
    {
     "data": {
      "text/plain": [
       "<qiskit.circuit.instructionset.InstructionSet at 0x27848141c10>"
      ]
     },
     "execution_count": 4,
     "metadata": {},
     "output_type": "execute_result"
    }
   ],
   "source": [
    "qc.cx(0,1)"
   ]
  },
  {
   "cell_type": "markdown",
   "id": "9cac59d5",
   "metadata": {},
   "source": [
    "This is the CNOT gate being applied to entangle qubits , remember the CNOT gate creates an entangled state as the second qubit is flipped if the first cubit is $ \\lvert 1 \\rangle $ which is given by the entangles state : $\n",
    "\\lvert \\psi \\rangle = \\frac{1}{\\sqrt{2}} \\left( \\lvert 00 \\rangle + \\lvert 11 \\rangle \\right)\n",
    "$\n",
    "\n",
    "We are entangling qubit 0 with qubit 1, where 0 is the control and 1 is the target "
   ]
  },
  {
   "cell_type": "code",
   "execution_count": 5,
   "id": "e85a2bb0",
   "metadata": {},
   "outputs": [
    {
     "data": {
      "text/plain": [
       "<qiskit.circuit.instructionset.InstructionSet at 0x27848141a30>"
      ]
     },
     "execution_count": 5,
     "metadata": {},
     "output_type": "execute_result"
    }
   ],
   "source": [
    "qc.cx(0,2)"
   ]
  },
  {
   "cell_type": "markdown",
   "id": "672ed191",
   "metadata": {},
   "source": [
    "Similarly we do it again here where we entangle qubit 0 with qubit 2\n",
    "so if qubit 0 is $ \\lvert 0 \\rangle$ qubit 2 stays the same but if cubit 0 is $ \\lvert 1 \\rangle$ qubit 2 is flipped this essentially entangles the three qubits 1,2,3\n",
    "$\n",
    "\\lvert \\psi \\rangle = \\frac{1}{\\sqrt{2}} \\left( \\lvert 000 \\rangle + \\lvert 111 \\rangle \\right)\n",
    "$"
   ]
  },
  {
   "cell_type": "code",
   "execution_count": 6,
   "id": "2cdc3ac6",
   "metadata": {},
   "outputs": [
    {
     "data": {
      "text/plain": [
       "<qiskit.circuit.instructionset.InstructionSet at 0x27848141ac0>"
      ]
     },
     "execution_count": 6,
     "metadata": {},
     "output_type": "execute_result"
    }
   ],
   "source": [
    "qc.x(1) #introduce error"
   ]
  },
  {
   "cell_type": "markdown",
   "id": "0d5d560d",
   "metadata": {},
   "source": [
    "This part of the code flips the state of qubit 1 which simulates a bit flip error"
   ]
  },
  {
   "cell_type": "code",
   "execution_count": 7,
   "id": "5c579382",
   "metadata": {},
   "outputs": [
    {
     "data": {
      "text/plain": [
       "<qiskit.circuit.instructionset.InstructionSet at 0x2784815fbe0>"
      ]
     },
     "execution_count": 7,
     "metadata": {},
     "output_type": "execute_result"
    }
   ],
   "source": [
    "#### Syndrome Measurement to detect the bit flip errror without collapse\n",
    "qc.cx(0, 3)  # Compare qubit 0 and ancilla qubit 3\n",
    "qc.cx(1, 3)  # Compare qubit 1 and ancilla qubit 3\n",
    "qc.cx(0, 4)  # Compare qubit 0 and ancilla qubit 4\n",
    "qc.cx(2, 4)  # Compare qubit 2 and ancilla qubit 4"
   ]
  },
  {
   "cell_type": "markdown",
   "id": "f3e6c8c3",
   "metadata": {},
   "source": [
    "We know qubits 0, 1, and 2 are the quantum qubits, and qubits 3 and 4 are the auxiliary/ancilla qubits. We are comparing the quantum qubits with the auxiliary qubits, so like before, the CNOT gate flips the second qubit if the first qubit is in state $ \\lvert 1 \\rangle $. This essentially stores information in the auxiliary qubits, as explained below:\n",
    "\n",
    "The first two CNOTs compare and check if qubit 0 and qubit 1 are different, and store the result in ancilla qubit 3.\n",
    "The next two CNOTs compare qubit 0 and qubit 2 to check if they are different, and store the result in ancilla qubit 4.\n",
    "\n",
    "From these results, you can build the logic for the system to check which qubit has been flipped.\n",
    "For example, if qubit 0 and qubit 1 are different, ancilla 3 will be 1, and if qubit 0 and qubit 2 are the same, ancilla 4 will be 0. This tells us that qubits 0 and 2 are the same, but qubit 0 and qubit 1 are different. Logically, this means that qubit 1 must have been flipped"
   ]
  },
  {
   "cell_type": "code",
   "execution_count": 8,
   "id": "2ca1002e",
   "metadata": {},
   "outputs": [
    {
     "data": {
      "text/plain": [
       "<qiskit.circuit.instructionset.InstructionSet at 0x2784815f460>"
      ]
     },
     "execution_count": 8,
     "metadata": {},
     "output_type": "execute_result"
    }
   ],
   "source": [
    "qc.measure([3, 4],[0,1])  # Measure ancilla qubits"
   ]
  },
  {
   "cell_type": "markdown",
   "id": "d3c3320a",
   "metadata": {},
   "source": [
    "We are measuring the ancilla qubits 3 and 4 and storing their results into classical bits, as the state of the qubits collapses after measurement. The first parameter is the qubit index, which is the index of the qubit we want to measure in the quantum register, and the second parameter is the classical bit index, which is the index that will store the result of the measurement in the classical register\n",
    "\n",
    "Here, we measure qubit 3 and store the result in classical bit 0, and then we measure qubit 4 and store the result in classical bit 1. Note that this does not collapse the entire quantum register.\n",
    "\n",
    "For example, if qubit 1 has been flipped, the measurement of qubit 3 and qubit 4 will give the result 01 as the lleftmost bit will correspond to ancilla 4 and rightmost bit to ancilla 3 due to convention from highest classical bit index to lowest classicall bit index.\n",
    "\n",
    "    00 indicates no bit-flip error,\n",
    "    10 indicates a flip on qubit 0,\n",
    "    01 indicates a flip on qubit 1,\n",
    "    11 indicates a flip on qubit 2"
   ]
  },
  {
   "cell_type": "markdown",
   "id": "61a01b7f",
   "metadata": {},
   "source": [
    "### Simulating the Quantum Circuit"
   ]
  },
  {
   "cell_type": "markdown",
   "id": "c0e4a991",
   "metadata": {},
   "source": [
    "#### Error Correction\n",
    "The c_if function allows us to apply quantum gates conditionally in Qiskit to implement a conditional quantum operation based on a classical measurement result. The way it works is that after measuring a qubit and storing the result in the classical register, we can then apply a gate or quantum operation depending on the value in the classical register"
   ]
  },
  {
   "cell_type": "code",
   "execution_count": 9,
   "id": "06f2c0d0",
   "metadata": {},
   "outputs": [
    {
     "data": {
      "text/plain": [
       "<qiskit.circuit.instructionset.InstructionSet at 0x2784815f6a0>"
      ]
     },
     "execution_count": 9,
     "metadata": {},
     "output_type": "execute_result"
    }
   ],
   "source": [
    "# Apply corrections based on syndrome measurements ie flip if statement stands\n",
    "qc.x(1).c_if(qc.cregs[0], 1)  # If syndrome is '01' (decimal 1), correct qubit 1\n",
    "qc.x(2).c_if(qc.cregs[0], 2)  # If syndrome is '10' (decimal 2), correct qubit 2\n",
    "qc.x(0).c_if(qc.cregs[0], 3)  # If syndrome is '11' (decimal 3), correct qubit 0\n"
   ]
  },
  {
   "cell_type": "markdown",
   "id": "e7730bc9",
   "metadata": {},
   "source": [
    "The `.c_if()` method applied the quantum gate if the condition has been met, this is determing by its parametes `qc.cregs[0]` which is the classical registers value and the integer in the second argument of `.c_if()` which specifies the value that the classical register must have for the operation to be applied. ie the value in as an integer converted to binary must correrspond to the ancilla value of the circuit"
   ]
  },
  {
   "cell_type": "code",
   "execution_count": 10,
   "id": "4dc9b3fd",
   "metadata": {},
   "outputs": [
    {
     "data": {
      "text/plain": [
       "<qiskit.circuit.instructionset.InstructionSet at 0x2784815fcd0>"
      ]
     },
     "execution_count": 10,
     "metadata": {},
     "output_type": "execute_result"
    }
   ],
   "source": [
    "qc.measure([0, 1, 2], [2,3,4])"
   ]
  },
  {
   "cell_type": "markdown",
   "id": "7a71723b",
   "metadata": {},
   "source": [
    "This is performing a quantum measurement on the qubits and storing the results in the classical registers."
   ]
  },
  {
   "cell_type": "code",
   "execution_count": 11,
   "id": "11d120a1",
   "metadata": {},
   "outputs": [
    {
     "data": {
      "text/plain": [
       "Text(0, 0.5, 'Frequency')"
      ]
     },
     "execution_count": 11,
     "metadata": {},
     "output_type": "execute_result"
    },
    {
     "data": {
      "image/png": "[encoded data removed]",
      "text/plain": [
       "<Figure size 640x480 with 1 Axes>"
      ]
     },
     "metadata": {},
     "output_type": "display_data"
    }
   ],
   "source": [
    "from qiskit_aer import AerSimulator #Aer simulator is the simulator backend for a quantum circuit\n",
    "from qiskit import transpile\n",
    "import matplotlib.pyplot as plt\n",
    "\n",
    "num_shots = 10000 #no simulations\n",
    "\n",
    "# For execution\n",
    "simulator = AerSimulator()\n",
    "compiled_circuit = transpile(qc, simulator) #optimise quantum circuit \n",
    "sim_result = simulator.run(compiled_circuit, shots = num_shots).result() #run simulation\n",
    "\n",
    "counts = sim_result.get_counts() #store counts of measurement\n",
    "\n",
    "#Plot Data\n",
    "bitstrings = list(counts.keys())\n",
    "frequencies = list(counts.values())\n",
    "\n",
    "# Plot\n",
    "plt.figure()\n",
    "plt.bar(bitstrings,frequencies)\n",
    "\n",
    "# decorations\n",
    "plt.title('Result of Quantum Bit-Flip Correction Counts')\n",
    "plt.xlabel('Bitstrings')\n",
    "plt.ylabel('Frequency')"
   ]
  },
  {
   "cell_type": "markdown",
   "id": "46ea6c58",
   "metadata": {},
   "source": [
    "- Aer Simulator is used to run quantum circuits on a classical simulator\n",
    "- Transpile optimises the quantum circuit for the specific simulator\n",
    "- By running the simulator, the circuit is executed, and we get a return of the results, where `get_counts()` retrieves the outcomes.\n",
    "\n",
    "As expected we can see from the results that the bit-flip error has been corrected the left most 3 bits are our qubits and we can see the two rightmost bits (ancilla) still have 01 which corrrepsonded to the intial qubit 1 bit flip, we know from the insital system setup the qubits are in superposition so thats why we simulate numerous times. as expected we can see the error being corrected in both cases"
   ]
  }
 ],
 "metadata": {
  "kernelspec": {
   "display_name": "Python 3 (ipykernel)",
   "language": "python",
   "name": "python3"
  },
  "language_info": {
   "codemirror_mode": {
    "name": "ipython",
    "version": 3
   },
   "file_extension": ".py",
   "mimetype": "text/x-python",
   "name": "python",
   "nbconvert_exporter": "python",
   "pygments_lexer": "ipython3",
   "version": "3.9.13"
  }
 },
 "nbformat": 4,
 "nbformat_minor": 5
}
